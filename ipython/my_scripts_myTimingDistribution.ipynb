{
 "cells": [
  {
   "cell_type": "markdown",
   "metadata": {},
   "source": [
    "### this script loads a file containing some timings in milliseconds and graph a distribution of it"
   ]
  },
  {
   "cell_type": "markdown",
   "metadata": {},
   "source": [
    "How to extract the timing from a .trc file?"
   ]
  },
  {
   "cell_type": "markdown",
   "metadata": {
    "collapsed": false
   },
   "source": [
    "```sh\n",
    "awk 'BEGIN{\n",
    "    print \"date duree_H duree_M duree_S duree_MS duree_totale_MS\"\n",
    "    };\n",
    "$0 ~ /^ServerName/ {\n",
    "    date=$(NF-1);heure=$NF;getline;\n",
    "    if ($0 ~ /^Murex execution/){\n",
    "        duree_h=substr($(NF-2),1,2);duree_m=substr($(NF-2),4,2);duree_s=substr($(NF-2),7,2);duree_ms=$(NF-1);\n",
    "        print date\"_\"heure,duree_h,duree_m,duree_s,duree_ms,(duree_h*3600*1000)+(duree_m*60*1000)+(duree_s*1000)+duree_ms\n",
    "    }\n",
    "}' ./logs/mxdb_traderepository1_20160627-182300398_2091418152_rdb.8941.trc > timing_mxdb_traderepository1_20160627-182300398_2091418152_rdb.8941.trc\n",
    "```"
   ]
  },
  {
   "cell_type": "code",
   "execution_count": 1,
   "metadata": {
    "collapsed": false
   },
   "outputs": [],
   "source": [
    "# pandas Series Object\n",
    "\n",
    "import numpy as np\n",
    "import pandas as pd\n",
    "import datetime as dt\n",
    "import pylab as plt\n",
    "from matplotlib.ticker import MultipleLocator, AutoMinorLocator\n",
    "import matplotlib.dates as mdates\n",
    "\n",
    "pd.set_option('display.notebook_repr_html', False)\n",
    "pd.set_option('display.max_columns',10)\n",
    "pd.set_option('display.max_rows',10)"
   ]
  },
  {
   "cell_type": "code",
   "execution_count": 10,
   "metadata": {
    "collapsed": true
   },
   "outputs": [],
   "source": [
    "def my_fig_size():\n",
    "    plt.style.use('fivethirtyeight') # define the graph predefined style\n",
    "    fig_size = plt.rcParams[\"figure.figsize\"]\n",
    "    fig_size[0] = 60\n",
    "    fig_size[1] = 15\n",
    "    plt.rcParams[\"figure.figsize\"] = fig_size\n",
    "    plt.rcParams['lines.linewidth']=3"
   ]
  },
  {
   "cell_type": "code",
   "execution_count": 3,
   "metadata": {
    "collapsed": true
   },
   "outputs": [],
   "source": [
    "def my_x_axis(minLocator):\n",
    "    plt.gca().xaxis.set_major_formatter(mdates.DateFormatter('%y/%m/%d %H:%M:%S'))  # define the format of the major tick\n",
    "    plt.gca().xaxis.set_minor_locator(minLocator)  # define the position of the minor ticks\n",
    "    plt.gcf().autofmt_xdate()  # format the x-axis label in diagonale so it's readable and the labels don't overlap\n",
    "    plt.xticks(size=20) #define the size for the x label\n",
    "    plt.yticks(size=20) #define the size for the y label"
   ]
  },
  {
   "cell_type": "code",
   "execution_count": 4,
   "metadata": {
    "collapsed": false
   },
   "outputs": [
    {
     "data": {
      "text/plain": [
       "                     duree_H  duree_M  duree_S  duree_MS  duree_totale_MS\n",
       "date                                                                     \n",
       "2016-06-30_19:04:22        0        0        0         1                1\n",
       "2016-06-30_19:04:22        0        0        0         1                1\n",
       "2016-06-30_19:04:22        0        0        0         1                1\n",
       "2016-06-30_19:04:22        0        0        0        12               12\n",
       "2016-06-30_19:04:22        0        0        0         2                2\n",
       "...                      ...      ...      ...       ...              ...\n",
       "2016-06-30_20:33:50        0        0        0         1                1\n",
       "2016-06-30_20:33:50        0        0        0         8                8\n",
       "2016-06-30_20:33:50        0        0        0         4                4\n",
       "2016-06-30_20:33:50        0        0        0         1                1\n",
       "2016-06-30_20:33:50        0        0        0         1                1\n",
       "\n",
       "[1060 rows x 5 columns]"
      ]
     },
     "execution_count": 4,
     "metadata": {},
     "output_type": "execute_result"
    }
   ],
   "source": [
    "minorLocator = AutoMinorLocator()\n",
    "filename = 'D:/Tmp/MEDIOBANCA/PAC_migration_stream/PAC_improvement/04.folder03_plus_ULC_128K_batchIOSize_200/sysmon_round2/timing_mxdb_traderepository1_20160630-180011270_2091418152_rdb.3580.trc'\n",
    "data = pd.read_csv(filename,sep=' ',na_values='n/a')\n",
    "data.set_index('date',inplace=True)\n",
    "data"
   ]
  },
  {
   "cell_type": "code",
   "execution_count": 5,
   "metadata": {
    "collapsed": false
   },
   "outputs": [
    {
     "data": {
      "text/plain": [
       "       duree_H      duree_M      duree_S     duree_MS  duree_totale_MS\n",
       "count     1060  1060.000000  1060.000000  1060.000000      1060.000000\n",
       "mean         0     0.057547     1.521698    89.576415      5064.104717\n",
       "std          0     1.004940     6.468234   213.816445     61771.671589\n",
       "min          0     0.000000     0.000000     1.000000         1.000000\n",
       "25%          0     0.000000     0.000000     1.000000         1.000000\n",
       "50%          0     0.000000     0.000000     2.000000         2.000000\n",
       "75%          0     0.000000     0.000000    22.000000        24.000000\n",
       "max          0    31.000000    56.000000   997.000000   1885907.000000"
      ]
     },
     "execution_count": 5,
     "metadata": {},
     "output_type": "execute_result"
    }
   ],
   "source": [
    "data.describe()"
   ]
  },
  {
   "cell_type": "code",
   "execution_count": 6,
   "metadata": {
    "collapsed": false
   },
   "outputs": [],
   "source": [
    "x = [dt.datetime.strptime(d,\"%Y-%m-%d_%H:%M:%S\") for d in data.index ]"
   ]
  },
  {
   "cell_type": "code",
   "execution_count": 11,
   "metadata": {
    "collapsed": false
   },
   "outputs": [],
   "source": [
    "my_fig_size()\n",
    "plt.figure()\n",
    "\n",
    "plt.subplot(111)\n",
    "plt.suptitle('SQL statement duration throughout the step', fontsize=15,style='oblique', color='black') #define a title for the graph\n",
    "my_x_axis(minorLocator)\n",
    "plt.plot(x,data[['duree_totale_MS']])\n",
    "plt.legend(data[['duree_totale_MS']],bbox_to_anchor=(1, 1),loc=1,bbox_transform=plt.gcf().transFigure,fontsize=19)\n",
    "plt.show()"
   ]
  }
 ],
 "metadata": {
  "kernelspec": {
   "display_name": "Python 2",
   "language": "python",
   "name": "python2"
  },
  "language_info": {
   "codemirror_mode": {
    "name": "ipython",
    "version": 2
   },
   "file_extension": ".py",
   "mimetype": "text/x-python",
   "name": "python",
   "nbconvert_exporter": "python",
   "pygments_lexer": "ipython2",
   "version": "2.7.11"
  }
 },
 "nbformat": 4,
 "nbformat_minor": 0
}
